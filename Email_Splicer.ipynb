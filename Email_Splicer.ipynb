{
  "nbformat": 4,
  "nbformat_minor": 0,
  "metadata": {
    "colab": {
      "provenance": [],
      "authorship_tag": "ABX9TyOzdJ5fBGxdfnP8Z4BGBbbc",
      "include_colab_link": true
    },
    "kernelspec": {
      "name": "python3",
      "display_name": "Python 3"
    },
    "language_info": {
      "name": "python"
    }
  },
  "cells": [
    {
      "cell_type": "markdown",
      "metadata": {
        "id": "view-in-github",
        "colab_type": "text"
      },
      "source": [
        "<a href=\"https://colab.research.google.com/github/johnofarrar/johnofarrar.github.io/blob/master/Email_Splicer.ipynb\" target=\"_parent\"><img src=\"https://colab.research.google.com/assets/colab-badge.svg\" alt=\"Open In Colab\"/></a>"
      ]
    },
    {
      "cell_type": "code",
      "execution_count": 2,
      "metadata": {
        "id": "7ro41W_GOIzp"
      },
      "outputs": [],
      "source": [
        "# This is an email splicer, it pulls the user and domain name from an email\n",
        "\n",
        "# email list:\n",
        "email = \"johnofarrar@gmail.com\""
      ]
    },
    {
      "cell_type": "code",
      "source": [
        "def splice_email(email):\n",
        "  # pulls index of @ symbol\n",
        "  symbol_index = int(email.index(\"@\"))\n",
        "\n",
        "  # pulls user\n",
        "  print(email[0:symbol_index])\n",
        "  # pulls domain\n",
        "  print(email[symbol_index +1:])"
      ],
      "metadata": {
        "id": "m0VEGUWztDde"
      },
      "execution_count": 3,
      "outputs": []
    },
    {
      "cell_type": "code",
      "source": [
        "splice_email(email)"
      ],
      "metadata": {
        "colab": {
          "base_uri": "https://localhost:8080/"
        },
        "id": "COfA23Sh4Pg8",
        "outputId": "a643f3f9-0468-4f58-c8c1-6b8e88c78602"
      },
      "execution_count": 4,
      "outputs": [
        {
          "output_type": "stream",
          "name": "stdout",
          "text": [
            "johnofarrar\n",
            "gmail.com\n"
          ]
        }
      ]
    },
    {
      "cell_type": "code",
      "source": [],
      "metadata": {
        "id": "mEUZTKLs4YRQ"
      },
      "execution_count": null,
      "outputs": []
    }
  ]
}