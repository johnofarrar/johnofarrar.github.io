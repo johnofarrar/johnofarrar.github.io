{
  "nbformat": 4,
  "nbformat_minor": 0,
  "metadata": {
    "colab": {
      "provenance": [],
      "authorship_tag": "ABX9TyMwdpJzzK8yU+0cd2R1L0X7",
      "include_colab_link": true
    },
    "kernelspec": {
      "name": "python3",
      "display_name": "Python 3"
    },
    "language_info": {
      "name": "python"
    }
  },
  "cells": [
    {
      "cell_type": "markdown",
      "metadata": {
        "id": "view-in-github",
        "colab_type": "text"
      },
      "source": [
        "<a href=\"https://colab.research.google.com/github/johnofarrar/johnofarrar.github.io/blob/master/Email_Splicer.ipynb\" target=\"_parent\"><img src=\"https://colab.research.google.com/assets/colab-badge.svg\" alt=\"Open In Colab\"/></a>"
      ]
    },
    {
      "cell_type": "code",
      "execution_count": 25,
      "metadata": {
        "colab": {
          "base_uri": "https://localhost:8080/"
        },
        "id": "7ro41W_GOIzp",
        "outputId": "ad25fc7f-9c3c-4f0a-f705-4fa942a296a1"
      },
      "outputs": [
        {
          "output_type": "stream",
          "name": "stdout",
          "text": [
            "johnofarrar\n",
            "gmail.com\n"
          ]
        }
      ],
      "source": [
        "# This is an email splicer, it pulls the user and domain name from an email\n",
        "\n",
        "# email list:\n",
        "email = \"johnofarrar@gmail.com\"\n",
        "\n",
        "# pulls index of @ symbol\n",
        "symbol_index = int(email.index(\"@\"))\n",
        "\n",
        "# pulls user\n",
        "print(email[0:symbol_index])\n",
        "# pulls domain\n",
        "print(email[symbol_index +1:-1] + email[-1])\n"
      ]
    },
    {
      "cell_type": "code",
      "source": [
        "print(email[symbol_index +1:-1] + email[-1])"
      ],
      "metadata": {
        "colab": {
          "base_uri": "https://localhost:8080/"
        },
        "id": "wdgcXzn3PGdn",
        "outputId": "423c5e14-3284-41d1-fb61-9c48a5edba04"
      },
      "execution_count": 24,
      "outputs": [
        {
          "output_type": "stream",
          "name": "stdout",
          "text": [
            "gmail.com\n"
          ]
        }
      ]
    },
    {
      "cell_type": "code",
      "source": [
        "print(email[symbol_index + 1:symbol_index + 999])"
      ],
      "metadata": {
        "colab": {
          "base_uri": "https://localhost:8080/"
        },
        "id": "mSXeCFSQQyyS",
        "outputId": "9caf357d-b197-4a63-84ab-22a24707a51e"
      },
      "execution_count": 19,
      "outputs": [
        {
          "output_type": "stream",
          "name": "stdout",
          "text": [
            "gmail.com\n"
          ]
        }
      ]
    },
    {
      "cell_type": "code",
      "source": [
        "print(email[-1])"
      ],
      "metadata": {
        "colab": {
          "base_uri": "https://localhost:8080/"
        },
        "id": "sJwKBEBORlJO",
        "outputId": "e81b7471-b1d5-492d-e12d-8e69fa00584e"
      },
      "execution_count": 22,
      "outputs": [
        {
          "output_type": "stream",
          "name": "stdout",
          "text": [
            "m\n"
          ]
        }
      ]
    },
    {
      "cell_type": "code",
      "source": [],
      "metadata": {
        "id": "aGGHBpLISSpe"
      },
      "execution_count": null,
      "outputs": []
    }
  ]
}