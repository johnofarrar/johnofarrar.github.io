{
  "nbformat": 4,
  "nbformat_minor": 0,
  "metadata": {
    "colab": {
      "provenance": [],
      "authorship_tag": "ABX9TyPUt6fdLgnTuNkGKW1ztjYp",
      "include_colab_link": true
    },
    "kernelspec": {
      "name": "python3",
      "display_name": "Python 3"
    },
    "language_info": {
      "name": "python"
    }
  },
  "cells": [
    {
      "cell_type": "markdown",
      "metadata": {
        "id": "view-in-github",
        "colab_type": "text"
      },
      "source": [
        "<a href=\"https://colab.research.google.com/github/johnofarrar/johnofarrar.github.io/blob/master/Pascals_Wager.ipynb\" target=\"_parent\"><img src=\"https://colab.research.google.com/assets/colab-badge.svg\" alt=\"Open In Colab\"/></a>"
      ]
    },
    {
      "cell_type": "code",
      "execution_count": 5,
      "metadata": {
        "colab": {
          "base_uri": "https://localhost:8080/"
        },
        "id": "oU7_vB6OFXcE",
        "outputId": "d6d4eba7-6ba7-4158-be0f-f08b6e41fc2a"
      },
      "outputs": [
        {
          "output_type": "stream",
          "name": "stdout",
          "text": [
            "Do you belive in God?\n",
            "Yes\n",
            "Does God exist?\n",
            "yes\n",
            "\n",
            "Congratulations! You go to Heaven.\n"
          ]
        }
      ],
      "source": [
        "# Pascals Wager:\n",
        "\n",
        "def pascals_wager(belive, is_true):\n",
        "  belive = belive.lower()\n",
        "  is_true = is_true.lower()\n",
        "  if belive == \"yes\" and is_true == \"yes\":\n",
        "    print(\"\\nCongratulations! You go to Heaven.\")\n",
        "  elif belive == \"no\" and is_true == \"yes\":\n",
        "    print(\"\\nIts fire and brimstone for you buddy.\")\n",
        "  else:\n",
        "    print(\"\\nNothing happens... '\\_(0-0)_/'\")\n",
        "\n",
        "belive = input(\"Do you belive in God?\\n\")\n",
        "is_true = input(\"Does God exist?\\n\")\n",
        "pascals_wager(belive, is_true)"
      ]
    },
    {
      "cell_type": "code",
      "source": [
        "\"belive = input(\"Do you belive in God?\\n\")\n",
        "is_true = input(\"Does God exist?\\n\")\n",
        "pascals_wager(belive, is_true)"
      ],
      "metadata": {
        "colab": {
          "base_uri": "https://localhost:8080/"
        },
        "id": "JBAAdX6sFZI2",
        "outputId": "e4f982f9-9896-444d-879a-b720e2a09a00"
      },
      "execution_count": 2,
      "outputs": [
        {
          "output_type": "stream",
          "name": "stdout",
          "text": [
            "Do you belive in God?\n",
            "no\n",
            "Does God exist?\n",
            "Yes\n",
            "\n",
            "Its fire and brimstone for you buddy.\n"
          ]
        }
      ]
    },
    {
      "cell_type": "code",
      "source": [
        "belive = input(\"Do you belive in God?\\n\")\n",
        "is_true = input(\"Does God exist?\\n\")\n",
        "pascals_wager(belive, is_true)"
      ],
      "metadata": {
        "colab": {
          "base_uri": "https://localhost:8080/"
        },
        "id": "TaF1qVHWFhy4",
        "outputId": "a4d0191a-b753-4fa0-d948-37251748e6f4"
      },
      "execution_count": 6,
      "outputs": [
        {
          "output_type": "stream",
          "name": "stdout",
          "text": [
            "Do you belive in God?\n",
            "yes\n",
            "Does God exist?\n",
            "no\n",
            "\n",
            "Nothing happens... '\\_(0-0)_/'\n"
          ]
        }
      ]
    },
    {
      "cell_type": "code",
      "source": [
        "belive = input(\"Do you belive in God?\\n\")\n",
        "is_true = input(\"Does God exist?\\n\")\n",
        "pascals_wager(belive, is_true)"
      ],
      "metadata": {
        "colab": {
          "base_uri": "https://localhost:8080/"
        },
        "id": "Yhzi8FzoFoC8",
        "outputId": "87e8b87a-b1a1-4772-e3d7-8a5546b3fee1"
      },
      "execution_count": 7,
      "outputs": [
        {
          "output_type": "stream",
          "name": "stdout",
          "text": [
            "Do you belive in God?\n",
            "no\n",
            "Does God exist?\n",
            "No\n",
            "\n",
            "Nothing happens... '\\_(0-0)_/'\n"
          ]
        }
      ]
    },
    {
      "cell_type": "code",
      "source": [],
      "metadata": {
        "id": "Zf8pVFVjF6To"
      },
      "execution_count": null,
      "outputs": []
    }
  ]
}