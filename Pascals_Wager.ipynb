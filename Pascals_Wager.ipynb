{
  "nbformat": 4,
  "nbformat_minor": 0,
  "metadata": {
    "colab": {
      "provenance": [],
      "authorship_tag": "ABX9TyNy+3GAFhMhPcZK0BOR8YiN",
      "include_colab_link": true
    },
    "kernelspec": {
      "name": "python3",
      "display_name": "Python 3"
    },
    "language_info": {
      "name": "python"
    }
  },
  "cells": [
    {
      "cell_type": "markdown",
      "metadata": {
        "id": "view-in-github",
        "colab_type": "text"
      },
      "source": [
        "<a href=\"https://colab.research.google.com/github/johnofarrar/johnofarrar.github.io/blob/master/Pascals_Wager.ipynb\" target=\"_parent\"><img src=\"https://colab.research.google.com/assets/colab-badge.svg\" alt=\"Open In Colab\"/></a>"
      ]
    },
    {
      "cell_type": "code",
      "execution_count": 8,
      "metadata": {
        "colab": {
          "base_uri": "https://localhost:8080/"
        },
        "id": "oU7_vB6OFXcE",
        "outputId": "649aa3ac-0324-4485-ef65-f8c124eb27e4"
      },
      "outputs": [
        {
          "output_type": "stream",
          "name": "stdout",
          "text": [
            "Do you belive in God? Y/N\n",
            "y\n",
            "Does God exist? Y/N\n",
            "y\n",
            "\n",
            "Congratulations! You go to Heaven.\n"
          ]
        }
      ],
      "source": [
        "# Pascals Wager:\n",
        "\n",
        "def pascals_wager(belive, is_true):\n",
        "  belive = belive.lower()\n",
        "  is_true = is_true.lower()\n",
        "  if belive == \"y\" and is_true == \"y\":\n",
        "    print(\"\\nCongratulations! You go to Heaven.\")\n",
        "  elif belive == \"n\" and is_true == \"y\":\n",
        "    print(\"\\nIts fire and brimstone for you buddy.\")\n",
        "  else:\n",
        "    print(\"\\nNothing happens... '\\_(0-0)_/'\")\n",
        "\n",
        "belive = input(\"Do you belive in God? Y/N\\n\")\n",
        "is_true = input(\"Does God exist? Y/N\\n\")\n",
        "pascals_wager(belive, is_true)"
      ]
    },
    {
      "cell_type": "code",
      "source": [
        "belive = input(\"Do you belive in God? Y/N\\n\")\n",
        "is_true = input(\"Does God exist? Y/N\\n\")\n",
        "pascals_wager(belive, is_true)"
      ],
      "metadata": {
        "colab": {
          "base_uri": "https://localhost:8080/"
        },
        "id": "JBAAdX6sFZI2",
        "outputId": "45d90416-c928-4881-da2c-5dd829dd1540"
      },
      "execution_count": 9,
      "outputs": [
        {
          "output_type": "stream",
          "name": "stdout",
          "text": [
            "Do you belive in God? Y/N\n",
            "n\n",
            "Does God exist? Y/N\n",
            "y\n",
            "\n",
            "Its fire and brimstone for you buddy.\n"
          ]
        }
      ]
    },
    {
      "cell_type": "code",
      "source": [
        "belive = input(\"Do you belive in God? Y/N\\n\")\n",
        "is_true = input(\"Does God exist? Y/N\\n\")\n",
        "pascals_wager(belive, is_true)"
      ],
      "metadata": {
        "colab": {
          "base_uri": "https://localhost:8080/"
        },
        "id": "TaF1qVHWFhy4",
        "outputId": "6bfbf448-2643-4072-d5f8-c11b3d7abfe6"
      },
      "execution_count": 10,
      "outputs": [
        {
          "output_type": "stream",
          "name": "stdout",
          "text": [
            "Do you belive in God? Y/N\n",
            "y\n",
            "Does God exist? Y/N\n",
            "n\n",
            "\n",
            "Nothing happens... '\\_(0-0)_/'\n"
          ]
        }
      ]
    },
    {
      "cell_type": "code",
      "source": [
        "belive = input(\"Do you belive in God? Y/N\\n\")\n",
        "is_true = input(\"Does God exist? Y/N\\n\")\n",
        "pascals_wager(belive, is_true)"
      ],
      "metadata": {
        "colab": {
          "base_uri": "https://localhost:8080/"
        },
        "id": "Yhzi8FzoFoC8",
        "outputId": "0103acc5-cb3f-4551-bc3b-930364c51b73"
      },
      "execution_count": 11,
      "outputs": [
        {
          "output_type": "stream",
          "name": "stdout",
          "text": [
            "Do you belive in God? Y/N\n",
            "n\n",
            "Does God exist? Y/N\n",
            "n\n",
            "\n",
            "Nothing happens... '\\_(0-0)_/'\n"
          ]
        }
      ]
    },
    {
      "cell_type": "code",
      "source": [],
      "metadata": {
        "id": "Zf8pVFVjF6To"
      },
      "execution_count": null,
      "outputs": []
    }
  ]
}