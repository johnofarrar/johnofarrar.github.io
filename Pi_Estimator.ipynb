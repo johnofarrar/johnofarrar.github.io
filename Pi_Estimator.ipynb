{
  "cells": [
    {
      "cell_type": "markdown",
      "metadata": {
        "id": "view-in-github",
        "colab_type": "text"
      },
      "source": [
        "<a href=\"https://colab.research.google.com/github/johnofarrar/johnofarrar.github.io/blob/master/Pi_Estimator.ipynb\" target=\"_parent\"><img src=\"https://colab.research.google.com/assets/colab-badge.svg\" alt=\"Open In Colab\"/></a>"
      ]
    },
    {
      "cell_type": "code",
      "execution_count": null,
      "metadata": {
        "id": "Iw-0-abjo-q_"
      },
      "outputs": [],
      "source": [
        "# Algorithm to estimate area of a circle"
      ]
    },
    {
      "cell_type": "code",
      "execution_count": null,
      "metadata": {
        "id": "NwRQrIMYrFJ_"
      },
      "outputs": [],
      "source": [
        "# importing np and plt\n",
        "import numpy as np\n",
        "import matplotlib.pyplot as plt"
      ]
    },
    {
      "cell_type": "code",
      "execution_count": null,
      "metadata": {
        "colab": {
          "base_uri": "https://localhost:8080/"
        },
        "id": "cd9Pxn_H354b",
        "outputId": "17eb00f1-4162-4674-c262-279b7b50698c"
      },
      "outputs": [
        {
          "output_type": "stream",
          "name": "stdout",
          "text": [
            "Turn this setting off for higher resolutions\n",
            "Render plot? (on/off): on\n",
            "*plot rendering enabled*\n"
          ]
        }
      ],
      "source": [
        "# turns on and off plotting\n",
        "plot_flag = input(\"Turn this setting off for higher resolutions\\nRender plot? (on/off): \")\n",
        "if plot_flag == \"on\":\n",
        "  plot_flag = True\n",
        "if plot_flag == \"off\":\n",
        "  plot_flag = False\n",
        "plot_flag = bool(plot_flag)\n",
        "\n",
        "if plot_flag:\n",
        "  print(\"*plot rendering enabled*\")\n",
        "else:\n",
        "  print(\"*plot rendering disabled*\")"
      ]
    },
    {
      "cell_type": "code",
      "execution_count": null,
      "metadata": {
        "colab": {
          "base_uri": "https://localhost:8080/"
        },
        "id": "lsMsNgsrrPJO",
        "outputId": "26fee2de-91dc-4043-98fa-d27407ac9ee4"
      },
      "outputs": [
        {
          "name": "stdout",
          "output_type": "stream",
          "text": [
            "resolution (1:1 aspect ratio): 100\n"
          ]
        }
      ],
      "source": [
        "# define a grid\n",
        "diameter = input(\"resolution (1:1 aspect ratio): \")\n",
        "diameter = int(diameter)\n",
        "radius = (diameter/2)\n",
        "\n",
        "if diameter % 2 == 0:\n",
        "  x = np.arange((-radius), (radius) + 1, 1)\n",
        "  y = np.arange((-radius), (radius) + 1, 1)\n",
        "else:\n",
        "  x = np.arange((-radius -.5), (radius +.5) + 1, 1)\n",
        "  y = np.arange((-radius -.5), (radius +.5) + 1, 1)"
      ]
    },
    {
      "cell_type": "code",
      "execution_count": null,
      "metadata": {
        "id": "XLtjmERBweuq",
        "colab": {
          "base_uri": "https://localhost:8080/",
          "height": 430
        },
        "outputId": "5dc9f941-a70a-47c1-b170-7b87ce3c53dc"
      },
      "outputs": [
        {
          "output_type": "display_data",
          "data": {
            "text/plain": [
              "<Figure size 640x480 with 1 Axes>"
            ],
            "image/png": "[encoded data removed]"
          },
          "metadata": {}
        }
      ],
      "source": [
        "if plot_flag:\n",
        "\n",
        "  fig, ax = plt.subplots()\n",
        "\n",
        "  for xi in x:\n",
        "    plt.plot(xi+0*y,y,'k.', markersize = (40/diameter))\n",
        "  circle1 = plt.Circle((0, 0), radius, color='r', fill = False)\n",
        "  ax.add_patch(circle1)\n",
        "  plt.axis('equal')"
      ]
    },
    {
      "cell_type": "code",
      "execution_count": null,
      "metadata": {
        "id": "zBE9Hx6jw6Er"
      },
      "outputs": [],
      "source": [
        "# loop through all values of x & y\n",
        "counter = 0\n",
        "\n",
        "for xi in x:\n",
        "  for yi in y:\n",
        "    rsq = xi**2 + yi**2\n",
        "    if rsq <= radius**2:\n",
        "      counter = counter + 1"
      ]
    },
    {
      "cell_type": "code",
      "execution_count": null,
      "metadata": {
        "colab": {
          "base_uri": "https://localhost:8080/"
        },
        "id": "yMIc0gXd1176",
        "outputId": "805f89ea-f859-4f7e-97d3-6b133ada71fa"
      },
      "outputs": [
        {
          "output_type": "stream",
          "name": "stdout",
          "text": [
            "estimated value of pi: 3.138\n"
          ]
        }
      ],
      "source": [
        "# a=pi*r^2\n",
        "# pi=a/r^2\n",
        "a = counter\n",
        "pi = a/(radius**2)\n",
        "print(\"estimated value of pi: \" + str(pi))"
      ]
    },
    {
      "cell_type": "code",
      "execution_count": null,
      "metadata": {
        "colab": {
          "base_uri": "https://localhost:8080/"
        },
        "id": "xWch-Ib13afH",
        "outputId": "d2dd2086-da39-4817-ccd8-b08b21c45b3f"
      },
      "outputs": [
        {
          "output_type": "stream",
          "name": "stdout",
          "text": [
            "actual value of pi: 3.141592653589793\n"
          ]
        }
      ],
      "source": [
        "# real value of pi\n",
        "print(\"actual value of pi: \" + str(np.pi))"
      ]
    },
    {
      "cell_type": "code",
      "execution_count": null,
      "metadata": {
        "colab": {
          "base_uri": "https://localhost:8080/"
        },
        "id": "MU0vcNtx3dnE",
        "outputId": "1db62c25-3a17-47dd-b591-0c637062a8c3"
      },
      "outputs": [
        {
          "output_type": "stream",
          "name": "stdout",
          "text": [
            "Number of digits: 4\n"
          ]
        }
      ],
      "source": [
        "# digits estimated\n",
        "print(f\"Number of digits: {len(str(pi)) - 1}\")"
      ]
    },
    {
      "cell_type": "code",
      "execution_count": null,
      "metadata": {
        "id": "p7r7YmPkdbyx"
      },
      "outputs": [],
      "source": []
    }
  ],
  "metadata": {
    "colab": {
      "provenance": [],
      "authorship_tag": "ABX9TyNXtugk1nObW+DFS4g7nWx6",
      "include_colab_link": true
    },
    "kernelspec": {
      "display_name": "Python 3",
      "name": "python3"
    },
    "language_info": {
      "name": "python"
    }
  },
  "nbformat": 4,
  "nbformat_minor": 0
}