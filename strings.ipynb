{
  "nbformat": 4,
  "nbformat_minor": 0,
  "metadata": {
    "colab": {
      "provenance": [],
      "authorship_tag": "ABX9TyNht7ZLe/AVwbtvS+oFDPBk",
      "include_colab_link": true
    },
    "kernelspec": {
      "name": "python3",
      "display_name": "Python 3"
    },
    "language_info": {
      "name": "python"
    }
  },
  "cells": [
    {
      "cell_type": "markdown",
      "metadata": {
        "id": "view-in-github",
        "colab_type": "text"
      },
      "source": [
        "<a href=\"https://colab.research.google.com/github/johnofarrar/johnofarrar.github.io/blob/master/strings.ipynb\" target=\"_parent\"><img src=\"https://colab.research.google.com/assets/colab-badge.svg\" alt=\"Open In Colab\"/></a>"
      ]
    },
    {
      "cell_type": "code",
      "execution_count": null,
      "metadata": {
        "colab": {
          "base_uri": "https://localhost:8080/"
        },
        "id": "Sdi15QbZGQ4Q",
        "outputId": "d7b0570f-316e-4e7a-d32c-9b3045ac38ef"
      },
      "outputs": [
        {
          "output_type": "stream",
          "name": "stdout",
          "text": [
            "\n",
            "D:\\USERS\\JOHN\\DOWNLOADS\\STG-BACKUPS-FF-118.0.2\n",
            "\n",
            "D Drive has succesfully failed\n",
            "\n",
            "46\n"
          ]
        }
      ],
      "source": [
        "File_Name = \"D:\\\\Users\\\\John\\\\Downloads\\\\STG-backups-FF-118.0.2\"\n",
        "\n",
        "print()\n",
        "print(File_Name.upper() + \"\\n\\n\" + File_Name[0] + \" Drive has succesfully failed\" + \"\\n\")\n",
        "print(len(File_Name))"
      ]
    },
    {
      "cell_type": "code",
      "source": [],
      "metadata": {
        "id": "kLiueIoSGaAb"
      },
      "execution_count": null,
      "outputs": []
    }
  ]
}